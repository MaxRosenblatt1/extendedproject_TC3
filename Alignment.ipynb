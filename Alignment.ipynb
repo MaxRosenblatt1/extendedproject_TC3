{
 "cells": [
  {
   "cell_type": "code",
   "execution_count": 3,
   "id": "1772bb54",
   "metadata": {},
   "outputs": [],
   "source": [
    "import pandas as pd\n",
    "import os\n",
    "from astropy.io import fits\n",
    "import glob\n",
    "import astroalign as aa"
   ]
  },
  {
   "cell_type": "code",
   "execution_count": 11,
   "id": "17802504",
   "metadata": {
    "scrolled": true
   },
   "outputs": [],
   "source": [
    "df = pd.read_csv('startimes.csv')"
   ]
  },
  {
   "cell_type": "code",
   "execution_count": 5,
   "id": "b3cef291",
   "metadata": {
    "scrolled": true
   },
   "outputs": [
    {
     "data": {
      "text/html": [
       "<div>\n",
       "<style scoped>\n",
       "    .dataframe tbody tr th:only-of-type {\n",
       "        vertical-align: middle;\n",
       "    }\n",
       "\n",
       "    .dataframe tbody tr th {\n",
       "        vertical-align: top;\n",
       "    }\n",
       "\n",
       "    .dataframe thead th {\n",
       "        text-align: right;\n",
       "    }\n",
       "</style>\n",
       "<table border=\"1\" class=\"dataframe\">\n",
       "  <thead>\n",
       "    <tr style=\"text-align: right;\">\n",
       "      <th></th>\n",
       "      <th>Unnamed: 0</th>\n",
       "      <th>file</th>\n",
       "      <th>time</th>\n",
       "    </tr>\n",
       "  </thead>\n",
       "  <tbody>\n",
       "    <tr>\n",
       "      <th>0</th>\n",
       "      <td>77</td>\n",
       "      <td>Reduced_star_Light_Blue_45_secs_001.fits</td>\n",
       "      <td>2023-01-23 18:45:01</td>\n",
       "    </tr>\n",
       "    <tr>\n",
       "      <th>1</th>\n",
       "      <td>78</td>\n",
       "      <td>Reduced_star_Light_Blue_45_secs_002.fits</td>\n",
       "      <td>2023-01-23 18:48:07</td>\n",
       "    </tr>\n",
       "    <tr>\n",
       "      <th>2</th>\n",
       "      <td>79</td>\n",
       "      <td>Reduced_star_Light_Blue_45_secs_003.fits</td>\n",
       "      <td>2023-01-23 18:51:14</td>\n",
       "    </tr>\n",
       "    <tr>\n",
       "      <th>3</th>\n",
       "      <td>80</td>\n",
       "      <td>Reduced_star_Light_Blue_45_secs_004.fits</td>\n",
       "      <td>2023-01-23 18:54:19</td>\n",
       "    </tr>\n",
       "    <tr>\n",
       "      <th>4</th>\n",
       "      <td>81</td>\n",
       "      <td>Reduced_star_Light_Blue_45_secs_005.fits</td>\n",
       "      <td>2023-01-23 18:57:12</td>\n",
       "    </tr>\n",
       "    <tr>\n",
       "      <th>...</th>\n",
       "      <td>...</td>\n",
       "      <td>...</td>\n",
       "      <td>...</td>\n",
       "    </tr>\n",
       "    <tr>\n",
       "      <th>107</th>\n",
       "      <td>72</td>\n",
       "      <td>Reduced_star_Light_Blue_30_secs_073.fits</td>\n",
       "      <td>2023-01-23 23:54:22</td>\n",
       "    </tr>\n",
       "    <tr>\n",
       "      <th>108</th>\n",
       "      <td>73</td>\n",
       "      <td>Reduced_star_Light_Blue_30_secs_074.fits</td>\n",
       "      <td>2023-01-23 23:56:34</td>\n",
       "    </tr>\n",
       "    <tr>\n",
       "      <th>109</th>\n",
       "      <td>74</td>\n",
       "      <td>Reduced_star_Light_Blue_30_secs_075.fits</td>\n",
       "      <td>2023-01-23 23:58:46</td>\n",
       "    </tr>\n",
       "    <tr>\n",
       "      <th>110</th>\n",
       "      <td>75</td>\n",
       "      <td>Reduced_star_Light_Blue_30_secs_076.fits</td>\n",
       "      <td>2023-01-24 00:00:58</td>\n",
       "    </tr>\n",
       "    <tr>\n",
       "      <th>111</th>\n",
       "      <td>76</td>\n",
       "      <td>Reduced_star_Light_Blue_30_secs_077.fits</td>\n",
       "      <td>2023-01-24 00:03:10</td>\n",
       "    </tr>\n",
       "  </tbody>\n",
       "</table>\n",
       "<p>112 rows × 3 columns</p>\n",
       "</div>"
      ],
      "text/plain": [
       "     Unnamed: 0                                      file                 time\n",
       "0            77  Reduced_star_Light_Blue_45_secs_001.fits  2023-01-23 18:45:01\n",
       "1            78  Reduced_star_Light_Blue_45_secs_002.fits  2023-01-23 18:48:07\n",
       "2            79  Reduced_star_Light_Blue_45_secs_003.fits  2023-01-23 18:51:14\n",
       "3            80  Reduced_star_Light_Blue_45_secs_004.fits  2023-01-23 18:54:19\n",
       "4            81  Reduced_star_Light_Blue_45_secs_005.fits  2023-01-23 18:57:12\n",
       "..          ...                                       ...                  ...\n",
       "107          72  Reduced_star_Light_Blue_30_secs_073.fits  2023-01-23 23:54:22\n",
       "108          73  Reduced_star_Light_Blue_30_secs_074.fits  2023-01-23 23:56:34\n",
       "109          74  Reduced_star_Light_Blue_30_secs_075.fits  2023-01-23 23:58:46\n",
       "110          75  Reduced_star_Light_Blue_30_secs_076.fits  2023-01-24 00:00:58\n",
       "111          76  Reduced_star_Light_Blue_30_secs_077.fits  2023-01-24 00:03:10\n",
       "\n",
       "[112 rows x 3 columns]"
      ]
     },
     "execution_count": 5,
     "metadata": {},
     "output_type": "execute_result"
    }
   ],
   "source": [
    "df"
   ]
  },
  {
   "cell_type": "code",
   "execution_count": 6,
   "id": "294f4d25",
   "metadata": {},
   "outputs": [],
   "source": [
    "filepathfits = '/Users/maxrosenblatt/Desktop/AstroData/2023_1_23/Light/Blue/Reduced/'"
   ]
  },
  {
   "cell_type": "code",
   "execution_count": 7,
   "id": "6d80d784",
   "metadata": {
    "scrolled": true
   },
   "outputs": [
    {
     "name": "stdout",
     "output_type": "stream",
     "text": [
      "/Users/maxrosenblatt/Desktop/AstroData/2023_1_23/Light/Blue/Reduced/Reduced_star_Light_Blue_45_secs_001.fits\n"
     ]
    }
   ],
   "source": [
    "print(filepathfits+df['file'][0])"
   ]
  },
  {
   "cell_type": "code",
   "execution_count": 9,
   "id": "8a2a8b5d",
   "metadata": {},
   "outputs": [
    {
     "ename": "KeyboardInterrupt",
     "evalue": "",
     "output_type": "error",
     "traceback": [
      "\u001b[0;31m---------------------------------------------------------------------------\u001b[0m",
      "\u001b[0;31mKeyboardInterrupt\u001b[0m                         Traceback (most recent call last)",
      "Cell \u001b[0;32mIn[9], line 17\u001b[0m\n\u001b[1;32m     15\u001b[0m \u001b[38;5;28;01mwith\u001b[39;00m fits\u001b[38;5;241m.\u001b[39mopen(file) \u001b[38;5;28;01mas\u001b[39;00m hdul:\n\u001b[1;32m     16\u001b[0m     image_data \u001b[38;5;241m=\u001b[39m hdul[\u001b[38;5;241m0\u001b[39m]\u001b[38;5;241m.\u001b[39mdata\u001b[38;5;241m.\u001b[39mastype(\u001b[38;5;124m'\u001b[39m\u001b[38;5;124m<f4\u001b[39m\u001b[38;5;124m'\u001b[39m)\n\u001b[0;32m---> 17\u001b[0m     aligned_image, footprint \u001b[38;5;241m=\u001b[39m \u001b[43maa\u001b[49m\u001b[38;5;241;43m.\u001b[39;49m\u001b[43mregister\u001b[49m\u001b[43m(\u001b[49m\u001b[43mtarget\u001b[49m\u001b[38;5;241;43m=\u001b[39;49m\u001b[43mrefimage_data\u001b[49m\u001b[43m,\u001b[49m\u001b[43m \u001b[49m\u001b[43msource\u001b[49m\u001b[38;5;241;43m=\u001b[39;49m\u001b[43mimage_data\u001b[49m\u001b[43m,\u001b[49m\u001b[43m \u001b[49m\u001b[43mmax_control_points\u001b[49m\u001b[38;5;241;43m=\u001b[39;49m\u001b[38;5;241;43m3\u001b[39;49m\u001b[43m)\u001b[49m\n\u001b[1;32m     18\u001b[0m     aligned_hdul \u001b[38;5;241m=\u001b[39m fits\u001b[38;5;241m.\u001b[39mPrimaryHDU(aligned_image, header\u001b[38;5;241m=\u001b[39mrefheader)\n\u001b[1;32m     19\u001b[0m     aligned_hdul\u001b[38;5;241m.\u001b[39mheader\u001b[38;5;241m.\u001b[39mset(\u001b[38;5;124m'\u001b[39m\u001b[38;5;124mORIGFILE\u001b[39m\u001b[38;5;124m'\u001b[39m, os\u001b[38;5;241m.\u001b[39mpath\u001b[38;5;241m.\u001b[39mbasename(file), \u001b[38;5;124m'\u001b[39m\u001b[38;5;124mOriginal filename\u001b[39m\u001b[38;5;124m'\u001b[39m)\n",
      "File \u001b[0;32m/Library/Frameworks/Python.framework/Versions/3.11/lib/python3.11/site-packages/astroalign.py:534\u001b[0m, in \u001b[0;36mregister\u001b[0;34m(source, target, fill_value, propagate_mask, max_control_points, detection_sigma, min_area)\u001b[0m\n\u001b[1;32m    489\u001b[0m \u001b[38;5;28;01mdef\u001b[39;00m \u001b[38;5;21mregister\u001b[39m(\n\u001b[1;32m    490\u001b[0m     source,\n\u001b[1;32m    491\u001b[0m     target,\n\u001b[0;32m   (...)\u001b[0m\n\u001b[1;32m    496\u001b[0m     min_area\u001b[38;5;241m=\u001b[39m\u001b[38;5;241m5\u001b[39m,\n\u001b[1;32m    497\u001b[0m ):\n\u001b[1;32m    498\u001b[0m \u001b[38;5;250m    \u001b[39m\u001b[38;5;124;03m\"\"\"Transform ``source`` to coincide pixel to pixel with ``target``.\u001b[39;00m\n\u001b[1;32m    499\u001b[0m \n\u001b[1;32m    500\u001b[0m \u001b[38;5;124;03m    Parameters\u001b[39;00m\n\u001b[0;32m   (...)\u001b[0m\n\u001b[1;32m    532\u001b[0m \u001b[38;5;124;03m            If no transformation is found.\u001b[39;00m\n\u001b[1;32m    533\u001b[0m \u001b[38;5;124;03m    \"\"\"\u001b[39;00m\n\u001b[0;32m--> 534\u001b[0m     t, __ \u001b[38;5;241m=\u001b[39m \u001b[43mfind_transform\u001b[49m\u001b[43m(\u001b[49m\n\u001b[1;32m    535\u001b[0m \u001b[43m        \u001b[49m\u001b[43msource\u001b[49m\u001b[38;5;241;43m=\u001b[39;49m\u001b[43msource\u001b[49m\u001b[43m,\u001b[49m\n\u001b[1;32m    536\u001b[0m \u001b[43m        \u001b[49m\u001b[43mtarget\u001b[49m\u001b[38;5;241;43m=\u001b[39;49m\u001b[43mtarget\u001b[49m\u001b[43m,\u001b[49m\n\u001b[1;32m    537\u001b[0m \u001b[43m        \u001b[49m\u001b[43mmax_control_points\u001b[49m\u001b[38;5;241;43m=\u001b[39;49m\u001b[43mmax_control_points\u001b[49m\u001b[43m,\u001b[49m\n\u001b[1;32m    538\u001b[0m \u001b[43m        \u001b[49m\u001b[43mdetection_sigma\u001b[49m\u001b[38;5;241;43m=\u001b[39;49m\u001b[43mdetection_sigma\u001b[49m\u001b[43m,\u001b[49m\n\u001b[1;32m    539\u001b[0m \u001b[43m        \u001b[49m\u001b[43mmin_area\u001b[49m\u001b[38;5;241;43m=\u001b[39;49m\u001b[43mmin_area\u001b[49m\u001b[43m,\u001b[49m\n\u001b[1;32m    540\u001b[0m \u001b[43m    \u001b[49m\u001b[43m)\u001b[49m\n\u001b[1;32m    541\u001b[0m     aligned_image, footprint \u001b[38;5;241m=\u001b[39m apply_transform(\n\u001b[1;32m    542\u001b[0m         t, source, target, fill_value, propagate_mask\n\u001b[1;32m    543\u001b[0m     )\n\u001b[1;32m    544\u001b[0m     \u001b[38;5;28;01mreturn\u001b[39;00m aligned_image, footprint\n",
      "File \u001b[0;32m/Library/Frameworks/Python.framework/Versions/3.11/lib/python3.11/site-packages/astroalign.py:335\u001b[0m, in \u001b[0;36mfind_transform\u001b[0;34m(source, target, max_control_points, detection_sigma, min_area)\u001b[0m\n\u001b[1;32m    332\u001b[0m         target_controlp \u001b[38;5;241m=\u001b[39m _np\u001b[38;5;241m.\u001b[39marray(target)[:max_control_points]\n\u001b[1;32m    333\u001b[0m     \u001b[38;5;28;01melse\u001b[39;00m:\n\u001b[1;32m    334\u001b[0m         \u001b[38;5;66;03m# Assume it's a 2D image\u001b[39;00m\n\u001b[0;32m--> 335\u001b[0m         target_controlp \u001b[38;5;241m=\u001b[39m \u001b[43m_find_sources\u001b[49m\u001b[43m(\u001b[49m\n\u001b[1;32m    336\u001b[0m \u001b[43m            \u001b[49m\u001b[43m_bw\u001b[49m\u001b[43m(\u001b[49m\u001b[43m_data\u001b[49m\u001b[43m(\u001b[49m\u001b[43mtarget\u001b[49m\u001b[43m)\u001b[49m\u001b[43m)\u001b[49m\u001b[43m,\u001b[49m\n\u001b[1;32m    337\u001b[0m \u001b[43m            \u001b[49m\u001b[43mdetection_sigma\u001b[49m\u001b[38;5;241;43m=\u001b[39;49m\u001b[43mdetection_sigma\u001b[49m\u001b[43m,\u001b[49m\n\u001b[1;32m    338\u001b[0m \u001b[43m            \u001b[49m\u001b[43mmin_area\u001b[49m\u001b[38;5;241;43m=\u001b[39;49m\u001b[43mmin_area\u001b[49m\u001b[43m,\u001b[49m\n\u001b[1;32m    339\u001b[0m \u001b[43m        \u001b[49m\u001b[43m)\u001b[49m[:max_control_points]\n\u001b[1;32m    340\u001b[0m \u001b[38;5;28;01mexcept\u001b[39;00m \u001b[38;5;167;01mException\u001b[39;00m:\n\u001b[1;32m    341\u001b[0m     \u001b[38;5;28;01mraise\u001b[39;00m \u001b[38;5;167;01mTypeError\u001b[39;00m(\u001b[38;5;124m\"\u001b[39m\u001b[38;5;124mInput type for target not supported.\u001b[39m\u001b[38;5;124m\"\u001b[39m)\n",
      "File \u001b[0;32m/Library/Frameworks/Python.framework/Versions/3.11/lib/python3.11/site-packages/astroalign.py:555\u001b[0m, in \u001b[0;36m_find_sources\u001b[0;34m(img, detection_sigma, min_area)\u001b[0m\n\u001b[1;32m    553\u001b[0m \u001b[38;5;28;01melse\u001b[39;00m:\n\u001b[1;32m    554\u001b[0m     image \u001b[38;5;241m=\u001b[39m img\u001b[38;5;241m.\u001b[39mastype(\u001b[38;5;124m\"\u001b[39m\u001b[38;5;124mfloat32\u001b[39m\u001b[38;5;124m\"\u001b[39m)\n\u001b[0;32m--> 555\u001b[0m bkg \u001b[38;5;241m=\u001b[39m \u001b[43msep\u001b[49m\u001b[38;5;241;43m.\u001b[39;49m\u001b[43mBackground\u001b[49m\u001b[43m(\u001b[49m\u001b[43mimage\u001b[49m\u001b[43m)\u001b[49m\n\u001b[1;32m    556\u001b[0m thresh \u001b[38;5;241m=\u001b[39m detection_sigma \u001b[38;5;241m*\u001b[39m bkg\u001b[38;5;241m.\u001b[39mglobalrms\n\u001b[1;32m    557\u001b[0m sources \u001b[38;5;241m=\u001b[39m sep\u001b[38;5;241m.\u001b[39mextract(image \u001b[38;5;241m-\u001b[39m bkg\u001b[38;5;241m.\u001b[39mback(), thresh, minarea\u001b[38;5;241m=\u001b[39mmin_area)\n",
      "\u001b[0;31mKeyboardInterrupt\u001b[0m: "
     ]
    }
   ],
   "source": [
    "filesInOrder = []\n",
    "\n",
    "for i in range(len(df['file'])):\n",
    "    filesInOrder.append(filepathfits+df['file'][i])\n",
    "\n",
    "\n",
    "refimage = filesInOrder[0]\n",
    "with fits.open(refimage) as hdul:\n",
    "    refimage_data = hdul[0].data.astype('<f4')\n",
    "    refheader = hdul[0].header.copy()\n",
    "\n",
    "\n",
    "i = 0\n",
    "for file in filesInOrder[1:]:\n",
    "    with fits.open(file) as hdul:\n",
    "        image_data = hdul[0].data.astype('<f4')\n",
    "        aligned_image, footprint = aa.register(target=refimage_data, source=image_data, max_control_points=3)\n",
    "        aligned_hdul = fits.PrimaryHDU(aligned_image, header=refheader)\n",
    "        aligned_hdul.header.set('ORIGFILE', os.path.basename(file), 'Original filename')\n",
    "        aligned_hdul.header.set('ORIGTIME', hdul[0].header.get('DATE-OBS'), 'Original observation time')\n",
    "        aligned_hdul.writeto(filepathfits+'aligned_'+(file.replace(filepathfits, \"\")), overwrite=True)\n",
    "        i += 1\n"
   ]
  },
  {
   "cell_type": "code",
   "execution_count": null,
   "id": "dce253ba",
   "metadata": {},
   "outputs": [],
   "source": []
  }
 ],
 "metadata": {
  "kernelspec": {
   "display_name": "Python 3 (ipykernel)",
   "language": "python",
   "name": "python3"
  },
  "language_info": {
   "codemirror_mode": {
    "name": "ipython",
    "version": 3
   },
   "file_extension": ".py",
   "mimetype": "text/x-python",
   "name": "python",
   "nbconvert_exporter": "python",
   "pygments_lexer": "ipython3",
   "version": "3.11.2"
  }
 },
 "nbformat": 4,
 "nbformat_minor": 5
}
