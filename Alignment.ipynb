{
 "cells": [
  {
   "cell_type": "markdown",
   "id": "688e1394",
   "metadata": {},
   "source": [
    "This should all work out of the box, not much adjustment needed, just point filepath to wherever your images are and run it."
   ]
  },
  {
   "cell_type": "code",
   "execution_count": null,
   "id": "beed3f35",
   "metadata": {},
   "outputs": [],
   "source": [
    "import pandas as pd\n",
    "import glob"
   ]
  },
  {
   "cell_type": "code",
   "execution_count": null,
   "id": "294f4d25",
   "metadata": {},
   "outputs": [],
   "source": [
    "filepath = '/Volumes/maxdrive/AstroData/2023_1_23/Light/Blue/Reduced/' #Change to path of wherever your reduced images are"
   ]
  },
  {
   "cell_type": "code",
   "execution_count": null,
   "id": "6d80d784",
   "metadata": {},
   "outputs": [],
   "source": [
    "flistfits = sorted(glob.glob(filepath+'Reduced_star_Light_*.fits')) #This probably won't need to be changed but check just in case you have different file name patterns"
   ]
  },
  {
   "cell_type": "code",
   "execution_count": null,
   "id": "8a2a8b5d",
   "metadata": {},
   "outputs": [],
   "source": [
    "import os\n",
    "from astropy.io import fits\n",
    "import glob\n",
    "import astroalign as aa\n",
    "\n",
    "\n",
    "\n",
    "refimage = flistfits[0]\n",
    "with fits.open(refimage) as hdul:\n",
    "    refimage_data = hdul[0].data.astype('<f4')\n",
    "    refheader = hdul[0].header.copy()\n",
    "\n",
    "\n",
    "for file in flistfits:\n",
    "    with fits.open(file) as hdul:\n",
    "        image_data = hdul[0].data.astype('<f4')\n",
    "        aligned_image, footprint = aa.register(target=refimage_data, source=image_data)\n",
    "        aligned_hdul = fits.PrimaryHDU(aligned_image, header=refheader)\n",
    "        aligned_hdul.header.set('ORIGFILE', os.path.basename(file), 'Original filename')\n",
    "        aligned_hdul.header.set('ORIGTIME', hdul[0].header.get('DATE-OBS'), 'Original observation time')\n",
    "        fname = filepath+'Aligned/'+'aligned_'+(file.replace(filepath, \"\"))\n",
    "        aligned_hdul.writeto((fname), overwrite=True)\n",
    "        print (fname)\n"
   ]
  }
 ],
 "metadata": {
  "kernelspec": {
   "display_name": "Python 3 (ipykernel)",
   "language": "python",
   "name": "python3"
  },
  "language_info": {
   "codemirror_mode": {
    "name": "ipython",
    "version": 3
   },
   "file_extension": ".py",
   "mimetype": "text/x-python",
   "name": "python",
   "nbconvert_exporter": "python",
   "pygments_lexer": "ipython3",
   "version": "3.11.2"
  }
 },
 "nbformat": 4,
 "nbformat_minor": 5
}
